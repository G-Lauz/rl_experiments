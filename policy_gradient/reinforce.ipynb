{
 "cells": [
  {
   "cell_type": "markdown",
   "metadata": {},
   "source": [
    "# REINFORCE: Monte-Carlo Policy-Gradient Control (episodic)\n",
    "From Chapter 13, Policy Gradient Methods (Sutton and Barto, 2018) **[1]**"
   ]
  },
  {
   "cell_type": "markdown",
   "metadata": {},
   "source": [
    "## Import Packages"
   ]
  },
  {
   "cell_type": "code",
   "execution_count": 1,
   "metadata": {},
   "outputs": [
    {
     "name": "stdout",
     "output_type": "stream",
     "text": [
      "cuda:0\n"
     ]
    }
   ],
   "source": [
    "import gymnasium as gym\n",
    "import numpy as np\n",
    "import torch\n",
    "\n",
    "device = torch.device(\"cuda:0\" if torch.cuda.is_available() else \"cpu\")\n",
    "print(device)"
   ]
  },
  {
   "cell_type": "markdown",
   "metadata": {},
   "source": [
    "## CartPole Problem"
   ]
  },
  {
   "cell_type": "code",
   "execution_count": 2,
   "metadata": {},
   "outputs": [
    {
     "name": "stdout",
     "output_type": "stream",
     "text": [
      "_____Observation Space______\n",
      "State space size:  4\n",
      "Sample observation:  [-4.7491460e+00  2.5042754e+38  2.2472194e-01  3.0626250e+38]\n",
      "_____Action Space______\n",
      "Action space size:  2\n",
      "Sample action:  1\n"
     ]
    }
   ],
   "source": [
    "env = gym.make('CartPole-v1')\n",
    "\n",
    "state_size = env.observation_space.shape[0]\n",
    "action_size = env.action_space.n\n",
    "\n",
    "print(\"_____Observation Space______\")\n",
    "print(\"State space size: \", state_size)\n",
    "print(\"Sample observation: \", env.observation_space.sample())\n",
    "\n",
    "print(\"_____Action Space______\")\n",
    "print(\"Action space size: \", action_size)\n",
    "print(\"Sample action: \", env.action_space.sample())"
   ]
  },
  {
   "cell_type": "markdown",
   "metadata": {},
   "source": [
    "### Define an Agent (Parametrized Policy)\n",
    "The policy must be differentiable. Here we define a linear policy."
   ]
  },
  {
   "cell_type": "code",
   "execution_count": 3,
   "metadata": {},
   "outputs": [
    {
     "data": {
      "text/plain": [
       "1"
      ]
     },
     "execution_count": 3,
     "metadata": {},
     "output_type": "execute_result"
    }
   ],
   "source": [
    "class LinearPolicyAgent():\n",
    "    def __init__(self, state_size, action_size, alpha=0.0001, gamma=1):\n",
    "        self.alpha = alpha # learning rate\n",
    "        self.gamma = gamma # discount factor\n",
    "\n",
    "        self.reset()\n",
    "\n",
    "    def reset(self):\n",
    "        self.weights = torch.rand((action_size, state_size), device=device)\n",
    "\n",
    "    def act(self, state):\n",
    "        state = torch.from_numpy(state).float().unsqueeze(0).to(device)\n",
    "\n",
    "        probabilities = torch.matmul(self.weights, state.T) # compute action preferences eq 13.3\n",
    "        policy = torch.functional.F.softmax(probabilities, dim=0).T # softmax in action preferences eq 13.2\n",
    "\n",
    "        action_idx = torch.multinomial(policy, 1).item() # sample action from policy\n",
    "\n",
    "        return action_idx\n",
    "    \n",
    "    def update_policy(self, weights):\n",
    "        self.weights = weights\n",
    "\n",
    "# test the policy\n",
    "debug_policy = LinearPolicyAgent(state_size, action_size)\n",
    "debug_policy.act(env.reset()[0])"
   ]
  },
  {
   "cell_type": "markdown",
   "metadata": {},
   "source": [
    "### Define the Learning Algorithm"
   ]
  },
  {
   "cell_type": "code",
   "execution_count": 4,
   "metadata": {},
   "outputs": [],
   "source": [
    "def reinforce(environment, agent, n_episodes, max_steps):\n",
    "    total_rewards = np.zeros(n_episodes)\n",
    "\n",
    "    for i in range(n_episodes):\n",
    "        rewards_history = []\n",
    "        action_history = []\n",
    "        state_history = []\n",
    "\n",
    "        state = env.reset()[0]\n",
    "\n",
    "        # Generate an episode S0, A0, R1, ..., ST-1, AT-1, RT, following pi(.|., theta)\n",
    "        for j in range(max_steps):\n",
    "\n",
    "            action_idx = agent.act(state)\n",
    "\n",
    "            next_state, reward, done, _, _ = env.step(action_idx)\n",
    "\n",
    "            action_history.append(action_idx)\n",
    "            state_history.append(state)\n",
    "            rewards_history.append(reward)\n",
    "\n",
    "            state = next_state\n",
    "\n",
    "            if done:\n",
    "                break\n",
    "\n",
    "        total_rewards[i] = sum(rewards_history)\n",
    "\n",
    "        # Update policy parameters, eq. 13.8\n",
    "        for t in range(len(state_history))[::-1]: # exclude the goal state from the update\n",
    "            state = torch.from_numpy(state_history[t]).float().unsqueeze(0).to(device)\n",
    "            action_idx = action_history[t]\n",
    "\n",
    "            # compute the return following time t\n",
    "            gt = agent.gamma ** np.arange(len(rewards_history[t:])) * np.array(rewards_history[t:])\n",
    "            gt = agent.gamma ** t * np.sum(gt)\n",
    "\n",
    "            # compute the gradient of the log policy\n",
    "            probabilities = torch.matmul(agent.weights, state.T) # compute action preferences eq 13.3\n",
    "            policy = torch.functional.F.softmax(probabilities, dim=0) # softmax in action preferences eq 13.2\n",
    "            current_features = state[:, action_idx]\n",
    "            grad_log_pi = current_features - torch.dot(policy[action_idx], current_features)\n",
    "\n",
    "            # update the policy parameters\n",
    "            agent.update_policy(agent.weights + agent.alpha * agent.gamma ** t * gt * grad_log_pi)\n",
    "\n",
    "    return total_rewards"
   ]
  },
  {
   "cell_type": "markdown",
   "metadata": {},
   "source": [
    "### Train"
   ]
  },
  {
   "cell_type": "code",
   "execution_count": 5,
   "metadata": {},
   "outputs": [
    {
     "name": "stdout",
     "output_type": "stream",
     "text": [
      "Maximum score over 1000 episodes: 116.0\n"
     ]
    }
   ],
   "source": [
    "linear_policy_agent = LinearPolicyAgent(state_size, action_size, alpha=1e-2, gamma=1)\n",
    "scores = reinforce(env, linear_policy_agent, n_episodes=1000, max_steps=1000)\n",
    "\n",
    "print(f\"Maximum score over 1000 episodes: {np.max(scores)}\")"
   ]
  },
  {
   "cell_type": "markdown",
   "metadata": {},
   "source": [
    "### Define an ANN Policy Agent\n",
    "In this occurence we will use an MLP to as parametrized policy which should work since it is differenciable."
   ]
  },
  {
   "cell_type": "code",
   "execution_count": 6,
   "metadata": {},
   "outputs": [],
   "source": [
    "class MLP(torch.nn.Module):\n",
    "    def __init__(self, input_size, output_size, hidden_size=64):\n",
    "        super().__init__()\n",
    "        self.fc1 = torch.nn.Linear(input_size, hidden_size)\n",
    "        self.activation = torch.nn.ReLU()\n",
    "        self.fc2 = torch.nn.Linear(hidden_size, output_size)\n",
    "\n",
    "    def forward(self, x):\n",
    "        x = self.fc1(x)\n",
    "        x = self.activation(x)\n",
    "        x = self.fc2(x)\n",
    "        return torch.functional.F.softmax(x, dim=1)\n",
    "\n",
    "\n",
    "class MLPPolicyAgent(torch.nn.Module):\n",
    "    def __init__(self, state_size, action_size, hidden_size, alpha=0.0001, gamma=1):\n",
    "        super().__init__()\n",
    "        \n",
    "        self.alpha = alpha\n",
    "        self.gamma = gamma\n",
    "\n",
    "        self.policy = MLP(state_size, action_size, hidden_size=hidden_size).to(device)\n",
    "\n",
    "    def act(self, state):\n",
    "        state = torch.from_numpy(state).float().unsqueeze(0).to(device)\n",
    "        probabilities = self.policy(state)\n",
    "        action_idx = torch.multinomial(probabilities, 1).item()\n",
    "        return action_idx\n",
    "    \n",
    "    def update_policy(self, weights):\n",
    "        self.policy.load_state_dict(weights)"
   ]
  },
  {
   "cell_type": "markdown",
   "metadata": {},
   "source": [
    "Here we will also reimplement the REINFORCE learning algorithm using Pytorch graph computing for optimization."
   ]
  },
  {
   "cell_type": "code",
   "execution_count": 7,
   "metadata": {},
   "outputs": [],
   "source": [
    "def reinforce_pytorch(environment, agent, optimizer, n_episodes, max_steps):\n",
    "    total_rewards = np.zeros(n_episodes)\n",
    "\n",
    "    for i in range(n_episodes):\n",
    "        rewards_history = []\n",
    "        action_history = []\n",
    "        state_history = []\n",
    "\n",
    "        state = env.reset()[0]\n",
    "\n",
    "        # Generate an episode S0, A0, R1, ..., ST-1, AT-1, RT, following pi(.|., theta)\n",
    "        for j in range(max_steps):\n",
    "\n",
    "            action_idx = agent.act(state)\n",
    "\n",
    "            next_state, reward, done, _, _ = env.step(action_idx)\n",
    "\n",
    "            action_history.append(action_idx)\n",
    "            state_history.append(state)\n",
    "            rewards_history.append(reward)\n",
    "\n",
    "            state = next_state\n",
    "\n",
    "            if done:\n",
    "                break\n",
    "\n",
    "        total_rewards[i] = sum(rewards_history)\n",
    "\n",
    "        # Update policy parameters, eq. 13.8\n",
    "        for t in range(len(state_history))[::-1]: # exclude the goal state from the update\n",
    "            state = torch.from_numpy(state_history[t]).float().unsqueeze(0).to(device)\n",
    "            action_idx = action_history[t]\n",
    "\n",
    "            # compute the return following time t\n",
    "            gt = agent.gamma ** np.arange(len(rewards_history[t:])) * np.array(rewards_history[t:])\n",
    "            gt = agent.gamma ** t * np.sum(gt)\n",
    "\n",
    "        # Here we do things a bit differently in order to leverage PyTorch's optimizers\n",
    "        # First, we compute the loss\n",
    "        # compute the gradient of the log policy\n",
    "        probabilities = agent.policy(state)\n",
    "        current_features = state[:, action_idx]\n",
    "        grad_log_pi = current_features - torch.dot(probabilities[:, action_idx], current_features)\n",
    "        loss = -gt * grad_log_pi\n",
    "\n",
    "        # Then we compute the gradients\n",
    "        optimizer.zero_grad()\n",
    "        loss.backward()\n",
    "\n",
    "        # Finally, we update the policy parameters\n",
    "        optimizer.step()\n",
    "\n",
    "\n",
    "    return total_rewards"
   ]
  },
  {
   "cell_type": "code",
   "execution_count": 8,
   "metadata": {},
   "outputs": [
    {
     "name": "stdout",
     "output_type": "stream",
     "text": [
      "Maximum score over 1000 episodes: 115.0\n"
     ]
    }
   ],
   "source": [
    "mlp_policy_agent = MLPPolicyAgent(state_size, action_size, hidden_size=16, alpha=0.01, gamma=1).to(device)\n",
    "\n",
    "optimizer = torch.optim.Adam(mlp_policy_agent.parameters(), lr=1e-2)\n",
    "\n",
    "scores = reinforce_pytorch(env, mlp_policy_agent, optimizer=optimizer, n_episodes=1000, max_steps=1000)\n",
    "\n",
    "print(f\"Maximum score over 1000 episodes: {np.max(scores)}\")"
   ]
  },
  {
   "cell_type": "markdown",
   "metadata": {},
   "source": [
    "## Visualization"
   ]
  },
  {
   "cell_type": "code",
   "execution_count": 9,
   "metadata": {},
   "outputs": [
    {
     "name": "stdout",
     "output_type": "stream",
     "text": [
      "Run 1/1 out of alpha=2/3\r"
     ]
    }
   ],
   "source": [
    "n_runs = 1\n",
    "n_episodes = 1000\n",
    "# alphas = [2**-12, 2**-13, 2**-14]\n",
    "alphas = [1e-2, 1e-3, 1e-4]\n",
    "\n",
    "avg_per_episode = np.zeros((len(alphas), n_runs, n_episodes))\n",
    "\n",
    "for i, alpha in enumerate(alphas):\n",
    "    for j in range(n_runs):\n",
    "        message = f\"Run {j+1}/{n_runs} out of alpha={i}/{len(alphas)}\"\n",
    "        print(message, end=\"\\r\")\n",
    "\n",
    "        # agent = LinearPolicyAgent(state_size, action_size, alpha=alpha, gamma=1)\n",
    "        # scores = reinforce(env, agent, n_episodes=n_episodes, max_steps=1000)\n",
    "        agent = MLPPolicyAgent(state_size, action_size, hidden_size=16, alpha=alpha, gamma=1).to(device)\n",
    "        scores = reinforce_pytorch(env, agent, optimizer=optimizer, n_episodes=n_episodes, max_steps=1000)\n",
    "\n",
    "        avg_per_episode[i, j, :] = scores\n",
    "\n",
    "avg_per_episode = np.mean(avg_per_episode, axis=1)"
   ]
  },
  {
   "cell_type": "code",
   "execution_count": 10,
   "metadata": {},
   "outputs": [
    {
     "data": {
      "image/png": "[encoded data removed]",
      "text/plain": [
       "<Figure size 640x480 with 1 Axes>"
      ]
     },
     "metadata": {},
     "output_type": "display_data"
    }
   ],
   "source": [
    "import matplotlib.pyplot as plt\n",
    "\n",
    "for i, alpha in enumerate(alphas):\n",
    "    plt.plot(np.arange(n_episodes), avg_per_episode[i], label=r'$\\alpha=2^{{{:.0f}}}$'.format(np.log2(alpha)))\n",
    "\n",
    "plt.xlabel('Episode')\n",
    "plt.ylabel(r'Total reward per episode $G_{0}$')\n",
    "\n",
    "plt.legend()\n",
    "plt.tight_layout()\n",
    "\n",
    "plt.show()"
   ]
  },
  {
   "cell_type": "markdown",
   "metadata": {},
   "source": [
    "### HuggingFace Cartpole Implementation\n",
    "https://huggingface.co/learn/deep-rl-course/unit4/hands-on"
   ]
  },
  {
   "cell_type": "code",
   "execution_count": 11,
   "metadata": {},
   "outputs": [],
   "source": [
    "class Policy(torch.nn.Module):\n",
    "    def __init__(self, s_size, a_size, h_size):\n",
    "        super(Policy, self).__init__()\n",
    "        self.fc1 = torch.nn.Linear(s_size, h_size)\n",
    "        self.fc2 = torch.nn.Linear(h_size, a_size)\n",
    "\n",
    "    def forward(self, x):\n",
    "        x = torch.functional.F.relu(self.fc1(x))\n",
    "        x = self.fc2(x)\n",
    "        return torch.functional.F.softmax(x, dim=1)\n",
    "\n",
    "    def act(self, state):\n",
    "        state = torch.from_numpy(state).float().unsqueeze(0).to(device)\n",
    "        probs = self.forward(state).cpu()\n",
    "        m = torch.distributions.Categorical(probs)\n",
    "        action = m.sample()\n",
    "        return action.item(), m.log_prob(action)"
   ]
  },
  {
   "cell_type": "code",
   "execution_count": 12,
   "metadata": {},
   "outputs": [],
   "source": [
    "from collections import deque\n",
    "\n",
    "def reinforce_hf(policy, optimizer, n_training_episodes, max_t, gamma, print_every):\n",
    "    # Help us to calculate the score during the training\n",
    "    scores_deque = deque(maxlen=100)\n",
    "    scores = []\n",
    "    # Line 3 of pseudocode\n",
    "    for i_episode in range(1, n_training_episodes + 1):\n",
    "        saved_log_probs = []\n",
    "        rewards = []\n",
    "        state = env.reset()[0]\n",
    "        # Line 4 of pseudocode\n",
    "        for t in range(max_t):\n",
    "            action, log_prob = policy.act(state)\n",
    "            saved_log_probs.append(log_prob)\n",
    "            state, reward, done, _, _ = env.step(action)\n",
    "            rewards.append(reward)\n",
    "            if done:\n",
    "                break\n",
    "        scores_deque.append(sum(rewards))\n",
    "        scores.append(sum(rewards))\n",
    "\n",
    "        # Line 6 of pseudocode: calculate the return\n",
    "        returns = deque(maxlen=max_t)\n",
    "        n_steps = len(rewards)\n",
    "        # Compute the discounted returns at each timestep,\n",
    "        # as\n",
    "        #      the sum of the gamma-discounted return at time t (G_t) + the reward at time t\n",
    "        #\n",
    "        # In O(N) time, where N is the number of time steps\n",
    "        # (this definition of the discounted return G_t follows the definition of this quantity\n",
    "        # shown at page 44 of Sutton&Barto 2017 2nd draft)\n",
    "        # G_t = r_(t+1) + r_(t+2) + ...\n",
    "\n",
    "        # Given this formulation, the returns at each timestep t can be computed\n",
    "        # by re-using the computed future returns G_(t+1) to compute the current return G_t\n",
    "        # G_t = r_(t+1) + gamma*G_(t+1)\n",
    "        # G_(t-1) = r_t + gamma* G_t\n",
    "        # (this follows a dynamic programming approach, with which we memorize solutions in order\n",
    "        # to avoid computing them multiple times)\n",
    "\n",
    "        # This is correct since the above is equivalent to (see also page 46 of Sutton&Barto 2017 2nd draft)\n",
    "        # G_(t-1) = r_t + gamma*r_(t+1) + gamma*gamma*r_(t+2) + ...\n",
    "\n",
    "        ## Given the above, we calculate the returns at timestep t as:\n",
    "        #               gamma[t] * return[t] + reward[t]\n",
    "        #\n",
    "        ## We compute this starting from the last timestep to the first, in order\n",
    "        ## to employ the formula presented above and avoid redundant computations that would be needed\n",
    "        ## if we were to do it from first to last.\n",
    "\n",
    "        ## Hence, the queue \"returns\" will hold the returns in chronological order, from t=0 to t=n_steps\n",
    "        ## thanks to the appendleft() function which allows to append to the position 0 in constant time O(1)\n",
    "        ## a normal python list would instead require O(N) to do this.\n",
    "        for t in range(n_steps)[::-1]:\n",
    "            disc_return_t = returns[0] if len(returns) > 0 else 0\n",
    "            returns.appendleft(gamma * disc_return_t + rewards[t])\n",
    "\n",
    "        ## standardization of the returns is employed to make training more stable\n",
    "        eps = np.finfo(np.float32).eps.item()\n",
    "        ## eps is the smallest representable float, which is\n",
    "        # added to the standard deviation of the returns to avoid numerical instabilities\n",
    "        returns = torch.tensor(returns)\n",
    "        returns = (returns - returns.mean()) / (returns.std() + eps)\n",
    "\n",
    "        # Line 7:\n",
    "        policy_loss = []\n",
    "        for log_prob, disc_return in zip(saved_log_probs, returns):\n",
    "            policy_loss.append(-log_prob * disc_return)\n",
    "        policy_loss = torch.cat(policy_loss).sum()\n",
    "\n",
    "        # Line 8: PyTorch prefers gradient descent\n",
    "        optimizer.zero_grad()\n",
    "        policy_loss.backward()\n",
    "        optimizer.step()\n",
    "\n",
    "        if i_episode % print_every == 0:\n",
    "            print(\"Episode {}\\tAverage Score: {:.2f}\".format(i_episode, np.mean(scores_deque)))\n",
    "\n",
    "    return scores"
   ]
  },
  {
   "cell_type": "code",
   "execution_count": 13,
   "metadata": {},
   "outputs": [
    {
     "name": "stdout",
     "output_type": "stream",
     "text": [
      "Episode 100\tAverage Score: 28.29\n",
      "Episode 200\tAverage Score: 339.12\n",
      "Episode 300\tAverage Score: 979.71\n",
      "Episode 400\tAverage Score: 908.47\n",
      "Episode 500\tAverage Score: 794.60\n",
      "Episode 600\tAverage Score: 634.59\n",
      "Episode 700\tAverage Score: 592.29\n",
      "Episode 800\tAverage Score: 976.42\n",
      "Episode 900\tAverage Score: 944.08\n",
      "Episode 1000\tAverage Score: 1000.00\n"
     ]
    }
   ],
   "source": [
    "cartpole_hyperparameters = {\n",
    "    \"h_size\": 16,\n",
    "    \"n_training_episodes\": 1000,\n",
    "    \"n_evaluation_episodes\": 10,\n",
    "    \"max_t\": 1000,\n",
    "    \"gamma\": 0.99,\n",
    "    \"lr\": 1e-2,\n",
    "    \"env_id\": \"CartPole-v1\",\n",
    "    \"state_space\": state_size,\n",
    "    \"action_space\": action_size,\n",
    "}\n",
    "\n",
    "# Create policy and place it to the device\n",
    "cartpole_policy = Policy(\n",
    "    cartpole_hyperparameters[\"state_space\"],\n",
    "    cartpole_hyperparameters[\"action_space\"],\n",
    "    cartpole_hyperparameters[\"h_size\"],\n",
    ").to(device)\n",
    "cartpole_optimizer = torch.optim.Adam(cartpole_policy.parameters(), lr=cartpole_hyperparameters[\"lr\"])\n",
    "\n",
    "scores = reinforce_hf(\n",
    "    cartpole_policy,\n",
    "    cartpole_optimizer,\n",
    "    cartpole_hyperparameters[\"n_training_episodes\"],\n",
    "    cartpole_hyperparameters[\"max_t\"],\n",
    "    cartpole_hyperparameters[\"gamma\"],\n",
    "    100,\n",
    ")"
   ]
  },
  {
   "cell_type": "code",
   "execution_count": 14,
   "metadata": {},
   "outputs": [],
   "source": [
    "def evaluate_agent(env, max_steps, n_eval_episodes, policy):\n",
    "    \"\"\"\n",
    "    Evaluate the agent for ``n_eval_episodes`` episodes and returns average reward and std of reward.\n",
    "    :param env: The evaluation environment\n",
    "    :param n_eval_episodes: Number of episode to evaluate the agent\n",
    "    :param policy: The Reinforce agent\n",
    "    \"\"\"\n",
    "    episode_rewards = []\n",
    "    for episode in range(n_eval_episodes):\n",
    "        state = env.reset()[0]\n",
    "        step = 0\n",
    "        done = False\n",
    "        total_rewards_ep = 0\n",
    "\n",
    "        for step in range(max_steps):\n",
    "            action, _ = policy.act(state)\n",
    "            new_state, reward, done, info, _ = env.step(action)\n",
    "            total_rewards_ep += reward\n",
    "\n",
    "            if done:\n",
    "                break\n",
    "            state = new_state\n",
    "        episode_rewards.append(total_rewards_ep)\n",
    "    mean_reward = np.mean(episode_rewards)\n",
    "    std_reward = np.std(episode_rewards)\n",
    "\n",
    "    return mean_reward, std_reward"
   ]
  },
  {
   "cell_type": "code",
   "execution_count": 15,
   "metadata": {},
   "outputs": [
    {
     "data": {
      "text/plain": [
       "(1000.0, 0.0)"
      ]
     },
     "execution_count": 15,
     "metadata": {},
     "output_type": "execute_result"
    }
   ],
   "source": [
    "eval_env = gym.make(cartpole_hyperparameters[\"env_id\"])\n",
    "\n",
    "evaluate_agent(\n",
    "    eval_env, cartpole_hyperparameters[\"max_t\"], cartpole_hyperparameters[\"n_evaluation_episodes\"], cartpole_policy\n",
    ")"
   ]
  },
  {
   "cell_type": "markdown",
   "metadata": {},
   "source": [
    "## References\n",
    "\n",
    "- **[1]** R. S. Sutton and A. G. Barto, Reinforcement learning: an introduction, Second edition. in Adaptive computation and machine learning series. Cambridge, Massachusetts: The MIT Press, 2018."
   ]
  }
 ],
 "metadata": {
  "kernelspec": {
   "display_name": ".venv",
   "language": "python",
   "name": "python3"
  },
  "language_info": {
   "codemirror_mode": {
    "name": "ipython",
    "version": 3
   },
   "file_extension": ".py",
   "mimetype": "text/x-python",
   "name": "python",
   "nbconvert_exporter": "python",
   "pygments_lexer": "ipython3",
   "version": "3.11.5"
  }
 },
 "nbformat": 4,
 "nbformat_minor": 2
}
